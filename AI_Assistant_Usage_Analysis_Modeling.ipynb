{
  "nbformat": 4,
  "nbformat_minor": 0,
  "metadata": {
    "colab": {
      "provenance": [],
      "authorship_tag": "ABX9TyPWkQHx6+UR7PcSNsYgROaY",
      "include_colab_link": true
    },
    "kernelspec": {
      "name": "python3",
      "display_name": "Python 3"
    },
    "language_info": {
      "name": "python"
    }
  },
  "cells": [
    {
      "cell_type": "markdown",
      "metadata": {
        "id": "view-in-github",
        "colab_type": "text"
      },
      "source": [
        "<a href=\"https://colab.research.google.com/github/Balaji5359/Kaggle-DS-Projects/blob/main/AI_Assistant_Usage_Analysis_Modeling.ipynb\" target=\"_parent\"><img src=\"https://colab.research.google.com/assets/colab-badge.svg\" alt=\"Open In Colab\"/></a>"
      ]
    },
    {
      "cell_type": "markdown",
      "source": [
        "# Kaggle Dataset\n",
        "\n",
        "\n",
        "---\n",
        "\n",
        "\n",
        "## AI Assistant Usage in Student Life\n",
        "\n",
        "\n",
        "---\n",
        "\n",
        "\n",
        "\n",
        "\n",
        "\n",
        "Exploring how students at different academic levels use AI tools like ChatGPT for tasks such as coding, writing, studying, and brainstorming. Designed for learning, EDA, and ML experimentation.\n",
        "\n",
        "This dataset simulates 10,000 sessions of students interacting with an AI assistant (like ChatGPT or similar tools) for various academic tasks. Each row represents a single session, capturing the student’s level, discipline, type of task, session length, AI effectiveness, satisfaction rating, and whether they reused the AI tool later.\n",
        "\n",
        "\n",
        "\n",
        "\n"
      ],
      "metadata": {
        "id": "mZEhUsLPko9R"
      }
    },
    {
      "cell_type": "markdown",
      "source": [
        "# Task with the Dataset\n",
        "---\n",
        "* EDA: Visualize session behavior across levels, tasks, or disciplines\n",
        "* Classification: Predict likelihood of reuse (UsedAgain) or final outcome\n",
        "* Regression: Model satisfaction or session length based on context\n",
        "* Clustering: Segment students by AI interaction behavior\n",
        "* Survey-style analysis: Discover what makes students satisfied or frustrated\n",
        "---\n",
        "**Column** **Description**\n",
        "* SessionID: \tUnique session identifier\n",
        "* Student Level: Academic level-High School, Undergraduate, Graduate\n",
        "* Discipline:\tStudent’s field of study (e.g., CS, Psychology, etc.)\n",
        "* SessionDate:\tDate of the session\n",
        "* SessionLengthMin:\tLength of AI interaction in minutes\n",
        "* TotalPrompts:\tNumber of prompts/messages used\n",
        "* TaskType:\tNature of the task (e.g., Coding, Writing, Research)\n",
        "* AI_AssistanceLevel:\t1–5 scale on how helpful the AI was perceived to be\n",
        "* FinalOutcome:\tWhat the student achieved: Assignment Completed, Idea Drafted, etc.\n",
        "* UsedAgain:\tWhether the student returned to use the assistant again\n",
        "* SatisfactionRating:\t1–5 rating of overall satisfaction with the session\n",
        "\n"
      ],
      "metadata": {
        "id": "4u8pVO1qlmoe"
      }
    },
    {
      "cell_type": "code",
      "source": [],
      "metadata": {
        "id": "9Jwci-p4o2AH"
      },
      "execution_count": null,
      "outputs": []
    }
  ]
}